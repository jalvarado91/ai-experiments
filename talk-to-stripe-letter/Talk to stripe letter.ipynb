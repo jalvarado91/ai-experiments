{
 "cells": [
  {
   "cell_type": "code",
   "execution_count": 2,
   "id": "cef1a7ea",
   "metadata": {},
   "outputs": [],
   "source": [
    "import os\n",
    "from langchain.chains import RetrievalQA\n",
    "from langchain.document_loaders import UnstructuredPDFLoader\n",
    "from langchain.text_splitter import RecursiveCharacterTextSplitter\n",
    "from langchain.llms import OpenAI\n",
    "from langchain.chat_models import ChatOpenAI"
   ]
  },
  {
   "cell_type": "code",
   "execution_count": 1,
   "id": "c1215639",
   "metadata": {},
   "outputs": [],
   "source": [
    "import os\n",
    "os.environ[\"OPENAI_API_KEY\"] = \"...\""
   ]
  },
  {
   "cell_type": "markdown",
   "id": "490d30c9",
   "metadata": {},
   "source": [
    "### Load Data"
   ]
  },
  {
   "cell_type": "code",
   "execution_count": 3,
   "id": "dbac98a9",
   "metadata": {},
   "outputs": [],
   "source": [
    "loader = UnstructuredPDFLoader(\"./stripe-2022-update.pdf\")"
   ]
  },
  {
   "cell_type": "code",
   "execution_count": 4,
   "id": "17eefd68",
   "metadata": {},
   "outputs": [],
   "source": [
    "data = loader.load()"
   ]
  },
  {
   "cell_type": "code",
   "execution_count": 5,
   "id": "f9eda244",
   "metadata": {},
   "outputs": [
    {
     "name": "stdout",
     "output_type": "stream",
     "text": [
      "There are 1 docs in the file\n",
      "There are 21882 chars in the doc\n"
     ]
    }
   ],
   "source": [
    "print(f'There are {len(data)} docs in the file')\n",
    "print(f'There are {len(data[0].page_content)} chars in the doc')"
   ]
  },
  {
   "cell_type": "markdown",
   "id": "b2f20a3b",
   "metadata": {},
   "source": [
    "### Chunk Data"
   ]
  },
  {
   "cell_type": "code",
   "execution_count": 6,
   "id": "40dcd727",
   "metadata": {},
   "outputs": [],
   "source": [
    "text_splitter = RecursiveCharacterTextSplitter(chunk_size=1000, chunk_overlap=0)\n",
    "texts = text_splitter.split_documents(data)"
   ]
  },
  {
   "cell_type": "code",
   "execution_count": 7,
   "id": "7224de31",
   "metadata": {
    "scrolled": true
   },
   "outputs": [
    {
     "name": "stdout",
     "output_type": "stream",
     "text": [
      "There are now 30 docs\n"
     ]
    }
   ],
   "source": [
    "print(f'There are now {len(texts)} docs')"
   ]
  },
  {
   "cell_type": "markdown",
   "id": "0ea89406",
   "metadata": {},
   "source": [
    "### Create Embeddings"
   ]
  },
  {
   "cell_type": "code",
   "execution_count": 8,
   "id": "7f135a85",
   "metadata": {},
   "outputs": [],
   "source": [
    "from langchain.vectorstores import Chroma\n",
    "from langchain.embeddings import HuggingFaceEmbeddings"
   ]
  },
  {
   "cell_type": "code",
   "execution_count": 9,
   "id": "1fe4ca8f",
   "metadata": {},
   "outputs": [],
   "source": [
    "embeddings = HuggingFaceEmbeddings()"
   ]
  },
  {
   "cell_type": "code",
   "execution_count": 10,
   "id": "8dff97ba",
   "metadata": {},
   "outputs": [
    {
     "name": "stderr",
     "output_type": "stream",
     "text": [
      "Using embedded DuckDB without persistence: data will be transient\n"
     ]
    }
   ],
   "source": [
    "db = Chroma.from_documents(texts, embeddings)"
   ]
  },
  {
   "cell_type": "code",
   "execution_count": 11,
   "id": "bdf3b8f5",
   "metadata": {},
   "outputs": [],
   "source": [
    "retriever = db.as_retriever()"
   ]
  },
  {
   "cell_type": "code",
   "execution_count": 12,
   "id": "041a8ccb",
   "metadata": {},
   "outputs": [],
   "source": [
    "llm = ChatOpenAI(model_name=\"gpt-3.5-turbo\", temperature=0.2)\n",
    "qa = RetrievalQA.from_chain_type(llm = llm, chain_type = \"stuff\", retriever=retriever, )"
   ]
  },
  {
   "cell_type": "code",
   "execution_count": 13,
   "id": "b25006d9",
   "metadata": {},
   "outputs": [
    {
     "data": {
      "text/plain": [
       "'1. Stripe is trying to play a role in the world by helping make it richer in every sense of the word with the help of the dedication of the doers. \\n\\n2. Stripe is optimistic about the future and believes that greater rates of change will allow returns to agility in every pursuit.\\n\\n3. There are more breakout companies headquartered outside a top 20 startup hub than there are in the Bay Area.\\n\\n4. Stripe\\'s first operating principle is \"Users First.\" \\n\\n5. Stripe listens to customer feedback and shipped 244 new user-facing features and 336 API updates last year.'"
      ]
     },
     "execution_count": 13,
     "metadata": {},
     "output_type": "execute_result"
    }
   ],
   "source": [
    "query = \"What are 5 key takeaways?\"\n",
    "qa.run(query)"
   ]
  },
  {
   "cell_type": "code",
   "execution_count": 14,
   "id": "fb7b0a33",
   "metadata": {},
   "outputs": [
    {
     "data": {
      "text/plain": [
       "'According to the context, the following points were made about breakout companies:\\n\\n- There are more breakout companies headquartered outside the top 20 startup hubs than in the Silicon Valley.\\n- The technology community has been successful in disseminating the knowledge required to build successful startups.\\n- Investment scenes outside of Silicon Valley are considerably more robust than they were just five years ago.\\n- The trends in the dispersion of startups strike the authors as interesting, and they looked at their data on \"breakout startups\", which are new companies with unusually rapid revenue ramps.\\n- In the three years before the pandemic, a high percentage of new breakouts were based in the city of San Francisco itself, but since then, only a low percentage have been.\\n- Around 25% of the US-based breakout companies that the authors see are based in California, but three-quarters are not based in California.\\n- California\\'s share of breakout companies appears to have been declining gradually over time.\\n- Miami\\'s growth has been striking in the authors\\' data.\\n- The top startup hubs in the US, in order, are the Bay Area, New York, Los Angeles, Miami, and Austin.\\n- Outside the US, the top hubs in their data are, in order, London, Singapore, Paris, Tokyo, and Toronto.\\n- Stripe has grown up with companies in the technology sector and powers many of the largest internet companies.\\n- Established brands and enterprises are turning to Stripe to technologize their businesses, and Stripe has worked with several companies to transform their buying experience or launch new programs.'"
      ]
     },
     "execution_count": 14,
     "metadata": {},
     "output_type": "execute_result"
    }
   ],
   "source": [
    "query2 = \"What points were made about breakout companies?\"\n",
    "qa.run(query2)"
   ]
  }
 ],
 "metadata": {
  "kernelspec": {
   "display_name": "Python 3 (ipykernel)",
   "language": "python",
   "name": "python3"
  },
  "language_info": {
   "codemirror_mode": {
    "name": "ipython",
    "version": 3
   },
   "file_extension": ".py",
   "mimetype": "text/x-python",
   "name": "python",
   "nbconvert_exporter": "python",
   "pygments_lexer": "ipython3",
   "version": "3.10.6"
  }
 },
 "nbformat": 4,
 "nbformat_minor": 5
}
